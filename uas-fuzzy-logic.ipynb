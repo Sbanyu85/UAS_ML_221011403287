{
 "cells": [
  {
   "cell_type": "code",
   "execution_count": 10,
   "metadata": {},
   "outputs": [],
   "source": [
    "import numpy as np\n",
    "import skfuzzy as fuzz\n",
    "from skfuzzy import control as ctrl\n",
    "import tkinter as tk\n",
    "from tkinter import ttk\n",
    "import matplotlib.pyplot as plt"
   ]
  },
  {
   "cell_type": "code",
   "execution_count": 11,
   "metadata": {},
   "outputs": [],
   "source": [
    "# Define fuzzy variables\n",
    "# Input variables\n",
    "temperature = ctrl.Antecedent(np.arange(16, 31, 1), 'temperature')  # Room temperature (16°C to 30°C)\n",
    "comfort = ctrl.Antecedent(np.arange(0, 11, 1), 'comfort')  # Comfort level (0 to 10)\n",
    "\n",
    "# Output variable\n",
    "fan_speed = ctrl.Consequent(np.arange(0, 101, 1), 'fan_speed')  # Fan speed percentage (0% to 100%)"
   ]
  },
  {
   "cell_type": "code",
   "execution_count": 12,
   "metadata": {},
   "outputs": [],
   "source": [
    "# Define fuzzy membership functions\n",
    "temperature['cold'] = fuzz.trimf(temperature.universe, [16, 16, 22])\n",
    "temperature['comfortable'] = fuzz.trimf(temperature.universe, [20, 24, 28])\n",
    "temperature['hot'] = fuzz.trimf(temperature.universe, [26, 30, 30])\n",
    "\n",
    "comfort['low'] = fuzz.trimf(comfort.universe, [0, 0, 5])\n",
    "comfort['medium'] = fuzz.trimf(comfort.universe, [3, 5, 7])\n",
    "comfort['high'] = fuzz.trimf(comfort.universe, [6, 10, 10])\n",
    "\n",
    "fan_speed['low'] = fuzz.trimf(fan_speed.universe, [0, 0, 50])\n",
    "fan_speed['medium'] = fuzz.trimf(fan_speed.universe, [30, 50, 70])\n",
    "fan_speed['high'] = fuzz.trimf(fan_speed.universe, [60, 100, 100])"
   ]
  },
  {
   "cell_type": "code",
   "execution_count": 13,
   "metadata": {},
   "outputs": [],
   "source": [
    "# Define fuzzy rules\n",
    "rules = [\n",
    "    ctrl.Rule(temperature['cold'] & comfort['high'], fan_speed['low']),\n",
    "    ctrl.Rule(temperature['cold'] & comfort['medium'], fan_speed['low']),\n",
    "    ctrl.Rule(temperature['cold'] & comfort['low'], fan_speed['medium']),\n",
    "    ctrl.Rule(temperature['comfortable'] & comfort['high'], fan_speed['low']),\n",
    "    ctrl.Rule(temperature['comfortable'] & comfort['medium'], fan_speed['medium']),\n",
    "    ctrl.Rule(temperature['comfortable'] & comfort['low'], fan_speed['high']),\n",
    "    ctrl.Rule(temperature['hot'] & comfort['high'], fan_speed['medium']),\n",
    "    ctrl.Rule(temperature['hot'] & comfort['medium'], fan_speed['high']),\n",
    "    ctrl.Rule(temperature['hot'] & comfort['low'], fan_speed['high']),\n",
    "]\n",
    "\n",
    "fan_speed_control = ctrl.ControlSystem(rules)\n",
    "fan_speed_sim = ctrl.ControlSystemSimulation(fan_speed_control)"
   ]
  },
  {
   "cell_type": "code",
   "execution_count": 14,
   "metadata": {},
   "outputs": [],
   "source": [
    "# Function to display membership function curves\n",
    "def show_curves():\n",
    "    fig, axs = plt.subplots(3, 1, figsize=(8, 12))\n",
    "\n",
    "    # Plot temperature membership functions\n",
    "    axs[0].plot(temperature.universe, temperature['cold'].mf, label='Cold')\n",
    "    axs[0].plot(temperature.universe, temperature['comfortable'].mf, label='Comfortable')\n",
    "    axs[0].plot(temperature.universe, temperature['hot'].mf, label='Hot')\n",
    "    axs[0].set_title('Temperature Membership Functions')\n",
    "    axs[0].legend()\n",
    "\n",
    "    # Plot comfort membership functions\n",
    "    axs[1].plot(comfort.universe, comfort['low'].mf, label='Low')\n",
    "    axs[1].plot(comfort.universe, comfort['medium'].mf, label='Medium')\n",
    "    axs[1].plot(comfort.universe, comfort['high'].mf, label='High')\n",
    "    axs[1].set_title('Comfort Membership Functions')\n",
    "    axs[1].legend()\n",
    "\n",
    "    # Plot fan speed membership functions\n",
    "    axs[2].plot(fan_speed.universe, fan_speed['low'].mf, label='Low')\n",
    "    axs[2].plot(fan_speed.universe, fan_speed['medium'].mf, label='Medium')\n",
    "    axs[2].plot(fan_speed.universe, fan_speed['high'].mf, label='High')\n",
    "    axs[2].set_title('Fan Speed Membership Functions')\n",
    "    axs[2].legend()\n",
    "\n",
    "    plt.tight_layout()\n",
    "    plt.show()"
   ]
  },
  {
   "cell_type": "code",
   "execution_count": 15,
   "metadata": {},
   "outputs": [],
   "source": [
    "# Tkinter GUI\n",
    "def calculate_fan_speed():\n",
    "    try:\n",
    "        temp = float(temp_entry.get())\n",
    "        comf = float(comfort_entry.get())\n",
    "        fan_speed_sim.input['temperature'] = temp\n",
    "        fan_speed_sim.input['comfort'] = comf\n",
    "        fan_speed_sim.compute()\n",
    "        result_label.config(text=f\"Fan Speed: {fan_speed_sim.output['fan_speed']:.2f}%\")\n",
    "    except Exception as e:\n",
    "        result_label.config(text=\"Error: Invalid input!\")\n",
    "\n",
    "root = tk.Tk()\n",
    "root.title(\"Fuzzy Fan Speed Control\")\n",
    "\n",
    "frame = ttk.Frame(root, padding=\"10\")\n",
    "frame.grid(row=0, column=0, sticky=(tk.W, tk.E, tk.N, tk.S))"
   ]
  },
  {
   "cell_type": "code",
   "execution_count": 16,
   "metadata": {},
   "outputs": [],
   "source": [
    "# Input fields\n",
    "ttk.Label(frame, text=\"Temperature (16-30°C):\").grid(row=0, column=0, sticky=tk.W)\n",
    "temp_entry = ttk.Entry(frame, width=10)\n",
    "temp_entry.grid(row=0, column=1)\n",
    "\n",
    "ttk.Label(frame, text=\"Comfort Level (0-10):\").grid(row=1, column=0, sticky=tk.W)\n",
    "comfort_entry = ttk.Entry(frame, width=10)\n",
    "comfort_entry.grid(row=1, column=1)"
   ]
  },
  {
   "cell_type": "code",
   "execution_count": 17,
   "metadata": {},
   "outputs": [],
   "source": [
    "# Buttons\n",
    "ttk.Button(frame, text=\"Calculate\", command=calculate_fan_speed).grid(row=2, column=0, columnspan=2, pady=10)\n",
    "ttk.Button(frame, text=\"Show Curves\", command=show_curves).grid(row=3, column=0, columnspan=2, pady=10)\n"
   ]
  },
  {
   "cell_type": "code",
   "execution_count": 18,
   "metadata": {},
   "outputs": [],
   "source": [
    "\n",
    "# Result display\n",
    "result_label = ttk.Label(frame, text=\"Fan Speed: \")\n",
    "result_label.grid(row=4, column=0, columnspan=2)\n",
    "\n",
    "root.mainloop()"
   ]
  }
 ],
 "metadata": {
  "kernelspec": {
   "display_name": "myenv",
   "language": "python",
   "name": "python3"
  },
  "language_info": {
   "codemirror_mode": {
    "name": "ipython",
    "version": 3
   },
   "file_extension": ".py",
   "mimetype": "text/x-python",
   "name": "python",
   "nbconvert_exporter": "python",
   "pygments_lexer": "ipython3",
   "version": "3.13.1"
  }
 },
 "nbformat": 4,
 "nbformat_minor": 2
}
